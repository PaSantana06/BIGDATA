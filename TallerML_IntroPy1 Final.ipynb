{
 "cells": [
  {
   "cell_type": "markdown",
   "id": "a89057cf-353c-45e6-a918-8509e35da224",
   "metadata": {},
   "source": [
    "# Taller Introducción a Python 1 - Big Data y Análisis de Datos\n",
    "\n",
    "Integrantes: Paola Andrea Santana Martinez- Luis Humberto Cruz Guzman- Leidy Esperanza Calixto Reyes \n",
    "\n",
    "## Aritmética Básica\n",
    "\n",
    "Responda y ejecute las siguientes operaciones en Python:\n",
    "\n",
    "    a) ¿Cuál es el resultado de 15 + 7?\n",
    "\n",
    "    b) ¿Cuál es el resultado de 50 - 23?\n",
    "\n",
    "    c) Calcule 8 * 6.\n",
    "\n",
    "    d) Divida 81 entre 9.\n",
    "\n",
    "    e) Eleve 3 a la quinta potencia.\n",
    "\n",
    "    f) Obtenga el módulo de 17 entre 4.\n",
    "\n",
    "    g) Use floor y ceil para redondear 4.7 y -2.3.\n",
    "    \n",
    "## Manipulación de Strings\n",
    "\n",
    "Utilice los métodos de Python para responder:\n",
    "\n",
    "    a) Convierte la cadena python es divertido a mayúsculas.\n",
    "\n",
    "    b) Convierte PROGRAMACIÓN a minúsculas.\n",
    "\n",
    "    c) Aplica capitalize() a aprendiendo python.\n",
    "\n",
    "    d) Convierte curso de python a formato de título.\n",
    "\n",
    "    e) Invierte mayúsculas y minúsculas en PyThOn.\n",
    "\n",
    "    f) Divida la cadena manzana,pera,uva en una lista.\n",
    "\n",
    "    g) Reemplaza mundo por Python en Hola mundo.\n",
    "\n",
    "    h) Une la lista [\"Hola\", \"Python\", \"3\"] con guiones.\n",
    "\n",
    "## Tipos de Números (int y float)\n",
    "\n",
    "    a) Redondea el número 5.6789 a 2 decimales.\n",
    "    \n",
    "    b) Obtén el valor absoluto de -15.7\n",
    "\n",
    "## Operadores Booleanos\n",
    "\n",
    "Evalúa las siguientes expresiones y responde si son True o False:\n",
    "\n",
    "    a) 5 > 3 y 10 < 20\n",
    "\n",
    "    b) 15 == 10 o 7 < 2\n",
    "\n",
    "    c) Negación de 4 == 4\n",
    "\n",
    "## Listas y Rangos\n",
    "\n",
    "    a) Crea una lista con los números del 1 al 10.\n",
    "\n",
    "    b) Usa range() para crear una lista de números pares entre 2 y 20.\n",
    "\n",
    "    c) Accede al tercer elemento de la lista [\"manzana\", \"pera\", \"uva\", \"banana\"].\n",
    "\n",
    "    d) Agrega kiwi a la lista del punto anterior.\n",
    "\n",
    "## Diccionarios\n",
    "\n",
    "    a) Crea un diccionario con llaves \"nombre\", \"edad\" y \"ciudad\" con valores de ejemplo (pueden ser inventados).\n",
    "\n",
    "    b) Accede al valor de la llave \"edad\".\n",
    "\n",
    "    c) Agrega un nuevo par llave-valor: \"profesión\".\n",
    "   \n",
    "## Condicionales\n",
    "\n",
    "    a) Escribe un bloque if-elif-else que evalúe si un número ingresado es positivo, negativo o cero.\n",
    "\n",
    "    b) Comprueba si una variable \"x\" es múltiplo de 6.\n",
    "    \n",
    "## Loops (for y while)\n",
    "\n",
    "    a) Usa un loop for para imprimir los números del 1 al 5.\n",
    "\n",
    "    b) Crea un while que sume los números del 1 al 10.\n",
    "\n",
    "## Creación de Funciones\n",
    "\n",
    "    a) Define una función que reciba dos números (a y b) y retorne su módulo (residuo de a/b)\n",
    "\n",
    "    b) Crea una función que determine si un número es primo.\n",
    "    \n",
    "    \n"
   ]
  },
  {
   "cell_type": "markdown",
   "id": "8d606029-3d69-4628-9f1d-1d2a10d1756e",
   "metadata": {},
   "source": [
    "## DESARROLLO DEL TALLER"
   ]
  },
  {
   "cell_type": "markdown",
   "id": "2b395d7a-ee7a-44c1-8dbb-14999a4d8b23",
   "metadata": {},
   "source": [
    "## Aritmética Básica"
   ]
  },
  {
   "cell_type": "code",
   "execution_count": 1,
   "id": "0692b670-ed1f-48df-8b76-4791256acfa1",
   "metadata": {},
   "outputs": [
    {
     "data": {
      "text/plain": [
       "22"
      ]
     },
     "execution_count": 1,
     "metadata": {},
     "output_type": "execute_result"
    }
   ],
   "source": [
    "#suma\n",
    "15+7"
   ]
  },
  {
   "cell_type": "code",
   "execution_count": 3,
   "id": "551c508d-51be-44e9-9512-c0cc0e8e9693",
   "metadata": {},
   "outputs": [
    {
     "data": {
      "text/plain": [
       "27"
      ]
     },
     "execution_count": 3,
     "metadata": {},
     "output_type": "execute_result"
    }
   ],
   "source": [
    "#resta\n",
    "50-23"
   ]
  },
  {
   "cell_type": "code",
   "execution_count": 5,
   "id": "13e2e4e0-7131-42fd-bc82-172b2eab4a99",
   "metadata": {},
   "outputs": [
    {
     "data": {
      "text/plain": [
       "48"
      ]
     },
     "execution_count": 5,
     "metadata": {},
     "output_type": "execute_result"
    }
   ],
   "source": [
    "#multiplicación\n",
    "8*6"
   ]
  },
  {
   "cell_type": "code",
   "execution_count": 7,
   "id": "bf6cf04b-52fd-4a4e-b17c-aada914f02c8",
   "metadata": {},
   "outputs": [
    {
     "data": {
      "text/plain": [
       "9.0"
      ]
     },
     "execution_count": 7,
     "metadata": {},
     "output_type": "execute_result"
    }
   ],
   "source": [
    "#división\n",
    "81/9"
   ]
  },
  {
   "cell_type": "code",
   "execution_count": 9,
   "id": "07110ac9-2f92-4293-b9ec-5a5073b58326",
   "metadata": {},
   "outputs": [
    {
     "data": {
      "text/plain": [
       "243"
      ]
     },
     "execution_count": 9,
     "metadata": {},
     "output_type": "execute_result"
    }
   ],
   "source": [
    "#potencia\n",
    "3**5"
   ]
  },
  {
   "cell_type": "code",
   "execution_count": 11,
   "id": "04de9c48-ff7e-4214-8909-a57068c1449f",
   "metadata": {},
   "outputs": [
    {
     "data": {
      "text/plain": [
       "1"
      ]
     },
     "execution_count": 11,
     "metadata": {},
     "output_type": "execute_result"
    }
   ],
   "source": [
    "# Operador Modulo\n",
    "17%4"
   ]
  },
  {
   "cell_type": "code",
   "execution_count": 13,
   "id": "f35ab5c7-eda2-4f15-925a-231ec2ec9601",
   "metadata": {},
   "outputs": [
    {
     "data": {
      "text/plain": [
       "4"
      ]
     },
     "execution_count": 13,
     "metadata": {},
     "output_type": "execute_result"
    }
   ],
   "source": [
    "# redondear con floor (hacia abajo)\n",
    "import math\n",
    "math.floor\n",
    "math.floor (4.7)"
   ]
  },
  {
   "cell_type": "code",
   "execution_count": 15,
   "id": "ceded666-087a-486b-8369-37f61c7b9ed0",
   "metadata": {},
   "outputs": [
    {
     "data": {
      "text/plain": [
       "-3"
      ]
     },
     "execution_count": 15,
     "metadata": {},
     "output_type": "execute_result"
    }
   ],
   "source": [
    "# redondear con floor (hacia abajo)\n",
    "import math\n",
    "math.floor\n",
    "math.floor (-2.3)"
   ]
  },
  {
   "cell_type": "code",
   "execution_count": 17,
   "id": "001aaeb2-0a78-4edb-9bc2-8c2d21f8c91a",
   "metadata": {},
   "outputs": [
    {
     "data": {
      "text/plain": [
       "5"
      ]
     },
     "execution_count": 17,
     "metadata": {},
     "output_type": "execute_result"
    }
   ],
   "source": [
    "# redondear con ceil (hacia arriba)\n",
    "import math\n",
    "math.ceil\n",
    "math.ceil (4.7)"
   ]
  },
  {
   "cell_type": "code",
   "execution_count": 19,
   "id": "3ece4638-20b4-47f4-aac2-b5cd3dcebd91",
   "metadata": {},
   "outputs": [
    {
     "data": {
      "text/plain": [
       "-2"
      ]
     },
     "execution_count": 19,
     "metadata": {},
     "output_type": "execute_result"
    }
   ],
   "source": [
    "import math\n",
    "math.ceil (-2.3)"
   ]
  },
  {
   "cell_type": "markdown",
   "id": "a90e6f38-2777-412a-b5a8-45648ad9c59f",
   "metadata": {},
   "source": [
    "## Manipulación de Strings"
   ]
  },
  {
   "cell_type": "code",
   "execution_count": 21,
   "id": "a2b53812-c077-4f32-8f2a-e72616c64c40",
   "metadata": {},
   "outputs": [
    {
     "data": {
      "text/plain": [
       "'PYTHON ES DIVERTIDO'"
      ]
     },
     "execution_count": 21,
     "metadata": {},
     "output_type": "execute_result"
    }
   ],
   "source": [
    "text= \"python es divertido\"\n",
    "str.upper(text)"
   ]
  },
  {
   "cell_type": "code",
   "execution_count": 23,
   "id": "fcb24d52-0cf1-4f3c-8c01-9bd00bbf061d",
   "metadata": {},
   "outputs": [
    {
     "data": {
      "text/plain": [
       "'programación'"
      ]
     },
     "execution_count": 23,
     "metadata": {},
     "output_type": "execute_result"
    }
   ],
   "source": [
    "text= \"PROGRAMACIÓN\"\n",
    "str.lower(text)"
   ]
  },
  {
   "cell_type": "code",
   "execution_count": 25,
   "id": "7cbfe07b-4f57-4f4f-9ab0-d0eb517a75cd",
   "metadata": {},
   "outputs": [
    {
     "data": {
      "text/plain": [
       "'Aprendiendo python'"
      ]
     },
     "execution_count": 25,
     "metadata": {},
     "output_type": "execute_result"
    }
   ],
   "source": [
    "text = \"aprendiendo python\"\n",
    "str.capitalize  (text)"
   ]
  },
  {
   "cell_type": "code",
   "execution_count": 27,
   "id": "e52cc1cd-f70c-439f-a378-40e14a5d7c2d",
   "metadata": {},
   "outputs": [
    {
     "data": {
      "text/plain": [
       "'Curso De Python'"
      ]
     },
     "execution_count": 27,
     "metadata": {},
     "output_type": "execute_result"
    }
   ],
   "source": [
    "text= \"curso de python\"\n",
    "str.title(text)"
   ]
  },
  {
   "cell_type": "code",
   "execution_count": 2,
   "id": "561d1692-7b2d-4632-8a60-7bde76942dfd",
   "metadata": {},
   "outputs": [
    {
     "data": {
      "text/plain": [
       "'pYtHON'"
      ]
     },
     "execution_count": 2,
     "metadata": {},
     "output_type": "execute_result"
    }
   ],
   "source": [
    "text= \"PyThon\"\n",
    "str.swapcase(text)"
   ]
  },
  {
   "cell_type": "code",
   "execution_count": 6,
   "id": "627f5a2e-82e4-4a5c-9004-b7590f9f94cb",
   "metadata": {},
   "outputs": [
    {
     "data": {
      "text/plain": [
       "['manzana, pera, uva']"
      ]
     },
     "execution_count": 6,
     "metadata": {},
     "output_type": "execute_result"
    }
   ],
   "source": [
    "# creando la variable\n",
    "phrase = \"manzana, pera, uva\"\n",
    "phrase.split(\"phrase\")"
   ]
  },
  {
   "cell_type": "code",
   "execution_count": 33,
   "id": "0698ce43-131a-421a-8953-28f9bcca77d1",
   "metadata": {},
   "outputs": [
    {
     "data": {
      "text/plain": [
       "'Hola Python'"
      ]
     },
     "execution_count": 33,
     "metadata": {},
     "output_type": "execute_result"
    }
   ],
   "source": [
    "txt= \"Hola Mundo\"\n",
    "(txt.replace(\"Hola Mundo\" , \"Hola Python\"))"
   ]
  },
  {
   "cell_type": "code",
   "execution_count": 35,
   "id": "04074cdd-4f61-436b-97f9-7ad475e1c74e",
   "metadata": {},
   "outputs": [
    {
     "name": "stdout",
     "output_type": "stream",
     "text": [
      "Hola-Python-3\n"
     ]
    }
   ],
   "source": [
    "lista = [\"Hola\", \"Python\", \"3\"]\n",
    "resultado = \"-\".join(lista)\n",
    "print(resultado)"
   ]
  },
  {
   "cell_type": "markdown",
   "id": "56442705-7678-491a-b40c-e02a7248aeda",
   "metadata": {},
   "source": [
    "## Tipos de Números (int y float)"
   ]
  },
  {
   "cell_type": "code",
   "execution_count": 37,
   "id": "d8c2be5a-4a37-4317-8843-960a0292d134",
   "metadata": {},
   "outputs": [
    {
     "name": "stdout",
     "output_type": "stream",
     "text": [
      "La aproximación de 5.6789 es 5.68\n"
     ]
    }
   ],
   "source": [
    "# a) Redondea el número 5.6789 a 2 decimales.\n",
    "import math\n",
    "x= 5.6789\n",
    "print(\"La aproximación de \" + str(x) + \" es \" + str(round(x, 2)))"
   ]
  },
  {
   "cell_type": "code",
   "execution_count": 27,
   "id": "f8fdb44e-e76f-4c3f-ba91-3d63c1da3f8d",
   "metadata": {},
   "outputs": [
    {
     "name": "stdout",
     "output_type": "stream",
     "text": [
      "El valor absoluto de -15.7 es 15.7\n"
     ]
    }
   ],
   "source": [
    "# b) Obtén el valor absoluto de -15.7.\n",
    "import math\n",
    "x= -15.7\n",
    "print(\"El valor absoluto de \" + str(x) + \" es \" + str(math.fabs(x)))"
   ]
  },
  {
   "cell_type": "markdown",
   "id": "e76c6d93-99a0-4c2a-8502-814939cd583d",
   "metadata": {},
   "source": [
    "## Operadores Booleanos"
   ]
  },
  {
   "cell_type": "code",
   "execution_count": 39,
   "id": "d7f6f747-50a7-4346-a9ae-f3e8478abe7d",
   "metadata": {},
   "outputs": [
    {
     "data": {
      "text/plain": [
       "True"
      ]
     },
     "execution_count": 39,
     "metadata": {},
     "output_type": "execute_result"
    }
   ],
   "source": [
    "# a) 5 > 3 y 10 < 20\n",
    "(5 > 3) & (10 < 20)"
   ]
  },
  {
   "cell_type": "code",
   "execution_count": 41,
   "id": "1f1639c4-0cab-48be-bebb-01434c86ed96",
   "metadata": {},
   "outputs": [
    {
     "data": {
      "text/plain": [
       "False"
      ]
     },
     "execution_count": 41,
     "metadata": {},
     "output_type": "execute_result"
    }
   ],
   "source": [
    "# b) 15 == 10 o 7 < 2\n",
    "(15 == 10) |(7 < 2)"
   ]
  },
  {
   "cell_type": "code",
   "execution_count": 43,
   "id": "7ec549b5-8010-4596-ae2a-95085c2104e2",
   "metadata": {},
   "outputs": [
    {
     "data": {
      "text/plain": [
       "False"
      ]
     },
     "execution_count": 43,
     "metadata": {},
     "output_type": "execute_result"
    }
   ],
   "source": [
    "# c) Negación de 4 == 4\n",
    "not (4 == 4)"
   ]
  },
  {
   "cell_type": "markdown",
   "id": "69b4d85a-ae48-40f4-a1ea-60ef05e8d3b6",
   "metadata": {},
   "source": [
    "## Listas y Rangos"
   ]
  },
  {
   "cell_type": "code",
   "execution_count": 45,
   "id": "55f37278-7d92-4d6d-92f8-a343586230ff",
   "metadata": {},
   "outputs": [
    {
     "name": "stdout",
     "output_type": "stream",
     "text": [
      "1\n",
      "2\n",
      "3\n",
      "4\n",
      "5\n",
      "6\n",
      "7\n",
      "8\n",
      "9\n",
      "10\n"
     ]
    }
   ],
   "source": [
    "# a) Crea una lista con los números del 1 al 10.\n",
    "for i in range(1,11):\n",
    "    print(i)"
   ]
  },
  {
   "cell_type": "code",
   "execution_count": 71,
   "id": "a426e6c1-0fc0-4bc0-8ee8-79fc0c7d6b02",
   "metadata": {},
   "outputs": [
    {
     "name": "stdout",
     "output_type": "stream",
     "text": [
      "2\n",
      "4\n",
      "6\n",
      "8\n",
      "10\n",
      "12\n",
      "14\n",
      "16\n",
      "18\n",
      "20\n"
     ]
    }
   ],
   "source": [
    "# b) Usa range() para crear una lista de números pares entre 2 y 20.\n",
    "for i in range(2, 21, 2):\n",
    "    print(i)"
   ]
  },
  {
   "cell_type": "code",
   "execution_count": 107,
   "id": "d0c0c389-538e-4f91-bc07-2a2cf59ceb89",
   "metadata": {},
   "outputs": [
    {
     "name": "stdout",
     "output_type": "stream",
     "text": [
      "tercer elemento de la lista:\n",
      "uva\n"
     ]
    }
   ],
   "source": [
    "# c) Accede al tercer elemento de la lista [\"manzana\", \"pera\", \"uva\", \"banana\"].\n",
    "lista=[\"manzana\", \"pera\", \"uva\", \"banana\"]\n",
    "print(\"tercer elemento de la lista:\")\n",
    "print(lista[2])\n"
   ]
  },
  {
   "cell_type": "code",
   "execution_count": 47,
   "id": "327bfdae-3bfd-4151-8947-8b1c7c2d3953",
   "metadata": {},
   "outputs": [
    {
     "name": "stdout",
     "output_type": "stream",
     "text": [
      "['manzana', 'pera', 'uva', 'banana', 'kiwi']\n"
     ]
    }
   ],
   "source": [
    "# d) Agrega kiwi a la lista del punto anterior.\n",
    "lista=[\"manzana\", \"pera\", \"uva\", \"banana\"]\n",
    "lista.append (\"kiwi\")\n",
    "print(lista)"
   ]
  },
  {
   "cell_type": "markdown",
   "id": "c52512f2-7833-4cb0-b412-08e5485909b8",
   "metadata": {},
   "source": [
    "## Diccionarios"
   ]
  },
  {
   "cell_type": "code",
   "execution_count": 49,
   "id": "9aad44a7-f547-464a-80a3-28973ab83c52",
   "metadata": {},
   "outputs": [
    {
     "data": {
      "text/plain": [
       "{'Nombre': ['Carlos', 'Leidy', 'Andrès', 'Jhon'],\n",
       " 'Edad': ['45', '39', '18', '26'],\n",
       " 'Ciudad': ['Bogota', 'Tauramena', 'Yopal', 'Aguazul']}"
      ]
     },
     "execution_count": 49,
     "metadata": {},
     "output_type": "execute_result"
    }
   ],
   "source": [
    "# a) Crea un diccionario con llaves \"nombre\", \"edad\" y \"ciudad\" con valores de ejemplo (pueden ser inventados).\n",
    "my_dic= {\"Nombre\": [\"Carlos\", \"Leidy\", \"Andrès\", \"Jhon\"], \"Edad\": [\"45\", \"39\", \"18\", \"26\"], \"Ciudad\": [\"Bogota\", \"Tauramena\", \"Yopal\", \"Aguazul\"]} \n",
    "my_dic"
   ]
  },
  {
   "cell_type": "code",
   "execution_count": 119,
   "id": "ef1f2408-5580-4031-8790-605b21520a04",
   "metadata": {},
   "outputs": [
    {
     "data": {
      "text/plain": [
       "['45', '39', '18', '26']"
      ]
     },
     "execution_count": 119,
     "metadata": {},
     "output_type": "execute_result"
    }
   ],
   "source": [
    "# b) Accede al valor de la llave \"edad\".\n",
    "my_dic= {\"Nombre\": [\"Carlos\", \"Leidy\", \"Andrès\", \"Jhon\"], \"Edad\": [\"45\", \"39\", \"18\", \"26\"], \"Ciudad\": [\"Bogota\", \"Tauramena\", \"Yopal\", \"Aguazul\"]}\n",
    "my_dic[\"Edad\"]"
   ]
  },
  {
   "cell_type": "code",
   "execution_count": 53,
   "id": "28d5a8be-fa36-48a9-b65b-735ea142c747",
   "metadata": {},
   "outputs": [
    {
     "data": {
      "text/plain": [
       "{'Nombre': ['Carlos', 'Leidy', 'Andrès', 'Jhon'],\n",
       " 'Edad': ['45', '39', '18', '26'],\n",
       " 'Ciudad': ['Bogota', 'Tauramena', 'Yopal', 'Aguazul'],\n",
       " 'Profesion': ['Mecanico', 'Administradora', 'Ingeniero', 'Operador']}"
      ]
     },
     "execution_count": 53,
     "metadata": {},
     "output_type": "execute_result"
    }
   ],
   "source": [
    "# c) Agrega un nuevo par llave-valor: \"profesión\".#\n",
    "my_dic={\"Nombre\": [\"Carlos\", \"Leidy\", \"Andrès\", \"Jhon\"], \"Edad\": [\"45\", \"39\", \"18\", \"26\"], \"Ciudad\": [\"Bogota\", \"Tauramena\", \"Yopal\", \"Aguazul\"]}\n",
    "my_dic[\"Profesion\"] = [\"Mecanico\", \"Administradora\", \"Ingeniero\",\"Operador\"]\n",
    "my_dic"
   ]
  },
  {
   "cell_type": "markdown",
   "id": "a421bd1b-5f3d-48f7-acbd-f885ac4bffda",
   "metadata": {},
   "source": [
    "## Condicionales"
   ]
  },
  {
   "cell_type": "code",
   "execution_count": 59,
   "id": "0e708ff5-c638-47c4-8614-393992bcaa65",
   "metadata": {},
   "outputs": [
    {
     "name": "stdout",
     "output_type": "stream",
     "text": [
      "Ingresa un número:  0\n"
     ]
    },
    {
     "name": "stdout",
     "output_type": "stream",
     "text": [
      "El número es cero.\n"
     ]
    }
   ],
   "source": [
    "# a) Escribe un bloque if-elif-else que evalúe si un número ingresado es positivo, negativo o cero.\n",
    "num = float(input(\"Ingresa un número: \"))\n",
    "\n",
    "if num > 0:\n",
    "    print(\"El número {0} es positivo.\".format(num))\n",
    "elif num < 0:\n",
    "    print(\"El número {0} es negativo.\".format(num))\n",
    "else:\n",
    "    print(\"El número es cero.\")"
   ]
  },
  {
   "cell_type": "code",
   "execution_count": 65,
   "id": "d5d630ed-84d7-450d-80ef-ecde8d85ec65",
   "metadata": {},
   "outputs": [
    {
     "name": "stdout",
     "output_type": "stream",
     "text": [
      "El número 40 no es múltiplo de 6.\n"
     ]
    }
   ],
   "source": [
    "# b) Comprueba si una variable \"x\" es múltiplo de 6.\n",
    "x = 40  \n",
    "\n",
    "if x % 6 == 0:\n",
    "    print(\"El número {0} es múltiplo de 6.\".format(x))\n",
    "else:\n",
    "    print(\"El número {0} no es múltiplo de 6.\".format(x))"
   ]
  },
  {
   "cell_type": "markdown",
   "id": "a2cec3a4-b936-4c26-beb6-885c983664cc",
   "metadata": {},
   "source": [
    "## Loops (for y while)"
   ]
  },
  {
   "cell_type": "code",
   "execution_count": 71,
   "id": "ece8cbcf-aa60-4a21-9862-78195e4c7763",
   "metadata": {},
   "outputs": [
    {
     "name": "stdout",
     "output_type": "stream",
     "text": [
      "1\n",
      "2\n",
      "3\n",
      "4\n",
      "5\n"
     ]
    }
   ],
   "source": [
    "# a) Usa un loop for para imprimir los números del 1 al 5.\n",
    "for num in range(1, 6):\n",
    "    print(num)"
   ]
  },
  {
   "cell_type": "code",
   "execution_count": 85,
   "id": "394a4116-0416-4383-9033-18ef3cbee35a",
   "metadata": {},
   "outputs": [
    {
     "name": "stdout",
     "output_type": "stream",
     "text": [
      "55\n"
     ]
    }
   ],
   "source": [
    "# b) Crea un while que sume los números del 1 al 10.\n",
    "suma = 0\n",
    "i = 1\n",
    "while i <= 10:\n",
    "    suma += i\n",
    "    i += 1\n",
    "print(suma)"
   ]
  },
  {
   "cell_type": "markdown",
   "id": "d0087681-a2e7-41b6-8ac2-40574a6d1e90",
   "metadata": {},
   "source": [
    "## Creación de Funciones"
   ]
  },
  {
   "cell_type": "code",
   "execution_count": 103,
   "id": "6aa1798a-d032-4d63-b8e9-3cfd894517b6",
   "metadata": {},
   "outputs": [
    {
     "name": "stdout",
     "output_type": "stream",
     "text": [
      "El módulo de 20 % 6 es: 2\n"
     ]
    }
   ],
   "source": [
    "# a) Define una función que reciba dos números (a y b) y retorne su módulo (residuo de a/b)\n",
    "def modulo(a,b):\n",
    "    res = a % b\n",
    "    return res\n",
    "    \n",
    "m = modulo(20, 6)  \n",
    "print(\"El módulo de 20 % 6 es: {0}\".format(m))  # Se imprime el resultado"
   ]
  },
  {
   "cell_type": "code",
   "execution_count": 107,
   "id": "aa5d060f-083d-4ffd-a7e4-816d2ac9481a",
   "metadata": {},
   "outputs": [
    {
     "name": "stdout",
     "output_type": "stream",
     "text": [
      "El número 40 no es primo.\n"
     ]
    }
   ],
   "source": [
    "# b) Crea una función que determine si un número es primo.\n",
    "def es_primo(n):\n",
    "    if n < 2:\n",
    "        return False # Los números menores a 2 no son primos\n",
    "    for i in range(2, int(n ** 0.5) + 1): # Se verifica hasta la raíz cuadrada de n\n",
    "        if n % i == 0:\n",
    "            return False # Si es divisible por otro número, no es primo\n",
    "    return True # Si no se encontró divisor, es primo\n",
    "\n",
    "num = 40\n",
    "if es_primo(num):\n",
    "    print(f\"El número {num} es primo.\")\n",
    "else:\n",
    "    print(f\"El número {num} no es primo.\")"
   ]
  }
 ],
 "metadata": {
  "kernelspec": {
   "display_name": "Python 3",
   "language": "python",
   "name": "python3"
  },
  "language_info": {
   "codemirror_mode": {
    "name": "ipython",
    "version": 3
   },
   "file_extension": ".py",
   "mimetype": "text/x-python",
   "name": "python",
   "nbconvert_exporter": "python",
   "pygments_lexer": "ipython3",
   "version": "3.10.2"
  }
 },
 "nbformat": 4,
 "nbformat_minor": 5
}

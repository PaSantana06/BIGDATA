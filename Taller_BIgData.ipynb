{
 "cells": [
  {
   "cell_type": "code",
   "execution_count": 30,
   "id": "020dbc34-1305-4e0c-920c-5feb6307856f",
   "metadata": {},
   "outputs": [
    {
     "data": {
      "text/plain": [
       "22"
      ]
     },
     "execution_count": 30,
     "metadata": {},
     "output_type": "execute_result"
    }
   ],
   "source": [
    "#suma\n",
    "15+7"
   ]
  },
  {
   "cell_type": "code",
   "execution_count": 5,
   "id": "4bfceb15-03e7-433c-968a-efc917635645",
   "metadata": {},
   "outputs": [
    {
     "data": {
      "text/plain": [
       "27"
      ]
     },
     "execution_count": 5,
     "metadata": {},
     "output_type": "execute_result"
    }
   ],
   "source": [
    "#resta\n",
    "50-23"
   ]
  },
  {
   "cell_type": "code",
   "execution_count": 34,
   "id": "d0beca26-d3e5-46f7-9c51-43ee3e8507be",
   "metadata": {},
   "outputs": [
    {
     "data": {
      "text/plain": [
       "48"
      ]
     },
     "execution_count": 34,
     "metadata": {},
     "output_type": "execute_result"
    }
   ],
   "source": [
    "#multiplicación\n",
    "8*6"
   ]
  },
  {
   "cell_type": "code",
   "execution_count": 1,
   "id": "03695638-a46a-4814-9fe6-4a49ad926324",
   "metadata": {},
   "outputs": [
    {
     "data": {
      "text/plain": [
       "9.0"
      ]
     },
     "execution_count": 1,
     "metadata": {},
     "output_type": "execute_result"
    }
   ],
   "source": [
    "#división\n",
    "81/9"
   ]
  },
  {
   "cell_type": "code",
   "execution_count": 38,
   "id": "c3d3f15a-1ebf-4e6f-ac2d-b5bd18d2d5a6",
   "metadata": {},
   "outputs": [
    {
     "data": {
      "text/plain": [
       "243"
      ]
     },
     "execution_count": 38,
     "metadata": {},
     "output_type": "execute_result"
    }
   ],
   "source": [
    "#potencia\n",
    "3**5"
   ]
  },
  {
   "cell_type": "code",
   "execution_count": 43,
   "id": "b7cfafdb-6dcc-4067-b4bc-60d62e806f6a",
   "metadata": {},
   "outputs": [
    {
     "data": {
      "text/plain": [
       "1"
      ]
     },
     "execution_count": 43,
     "metadata": {},
     "output_type": "execute_result"
    }
   ],
   "source": [
    "# Operador Modulo\n",
    "17%4"
   ]
  },
  {
   "cell_type": "code",
   "execution_count": 48,
   "id": "6bc5bd2b-f102-432e-8a4a-eebca1bbacb0",
   "metadata": {},
   "outputs": [
    {
     "data": {
      "text/plain": [
       "4"
      ]
     },
     "execution_count": 48,
     "metadata": {},
     "output_type": "execute_result"
    }
   ],
   "source": [
    "# redondear con floor (hacia abajo)\n",
    "import math\n",
    "math.floor\n",
    "math.floor (4.7)"
   ]
  },
  {
   "cell_type": "code",
   "execution_count": 49,
   "id": "4eb03779-b7ec-461a-abae-fef7d47f4446",
   "metadata": {},
   "outputs": [
    {
     "data": {
      "text/plain": [
       "-3"
      ]
     },
     "execution_count": 49,
     "metadata": {},
     "output_type": "execute_result"
    }
   ],
   "source": [
    "# redondear con floor (hacia abajo)\n",
    "import math\n",
    "math.floor\n",
    "math.floor (-2.3)"
   ]
  },
  {
   "cell_type": "code",
   "execution_count": 45,
   "id": "5749b4bf-fc63-4d58-8145-64f1c7e67718",
   "metadata": {},
   "outputs": [
    {
     "data": {
      "text/plain": [
       "5"
      ]
     },
     "execution_count": 45,
     "metadata": {},
     "output_type": "execute_result"
    }
   ],
   "source": [
    "# redondear con ceil (hacia arriba)\n",
    "import math\n",
    "math.ceil\n",
    "math.ceil (4.7)"
   ]
  },
  {
   "cell_type": "code",
   "execution_count": 24,
   "id": "b47d4e9d-50f5-4e75-8bcd-912d500c9a7f",
   "metadata": {},
   "outputs": [
    {
     "data": {
      "text/plain": [
       "-2"
      ]
     },
     "execution_count": 24,
     "metadata": {},
     "output_type": "execute_result"
    }
   ],
   "source": [
    "import math\n",
    "math.ceil (-2.3)"
   ]
  },
  {
   "cell_type": "code",
   "execution_count": 26,
   "id": "bc0e314f-5caa-43c3-ac3d-5c400c0f625a",
   "metadata": {},
   "outputs": [
    {
     "data": {
      "text/plain": [
       "'PAHYTHON ES DIVERTIDO'"
      ]
     },
     "execution_count": 26,
     "metadata": {},
     "output_type": "execute_result"
    }
   ],
   "source": [
    "text= (\"python es divertido\")\n",
    "str.upper(\"pahython es divertido\")"
   ]
  },
  {
   "cell_type": "code",
   "execution_count": 43,
   "id": "8fdea7e3-9ee6-4948-a2ac-508dc53172c5",
   "metadata": {},
   "outputs": [
    {
     "data": {
      "text/plain": [
       "'programación'"
      ]
     },
     "execution_count": 43,
     "metadata": {},
     "output_type": "execute_result"
    }
   ],
   "source": [
    "text= (\"PROGRAMACIÓN\")\n",
    "str.lower(\"PROGRAMACIÓN\")"
   ]
  },
  {
   "cell_type": "code",
   "execution_count": 2,
   "id": "d5d67219-5187-4870-984b-3475cc5ca0ff",
   "metadata": {},
   "outputs": [
    {
     "data": {
      "text/plain": [
       "'Aprendiendo python'"
      ]
     },
     "execution_count": 2,
     "metadata": {},
     "output_type": "execute_result"
    }
   ],
   "source": [
    "text = (\"aprendiendo python\")\n",
    "str.capitalize  (\"aprendiendo python\")"
   ]
  },
  {
   "cell_type": "code",
   "execution_count": 3,
   "id": "514c870f-2d10-4633-b1ac-04ac1faa59b4",
   "metadata": {},
   "outputs": [
    {
     "data": {
      "text/plain": [
       "'Curso De Python'"
      ]
     },
     "execution_count": 3,
     "metadata": {},
     "output_type": "execute_result"
    }
   ],
   "source": [
    "text= (\"curso de python\")\n",
    "str.title(\"curso de python\")"
   ]
  },
  {
   "cell_type": "code",
   "execution_count": 4,
   "id": "cfc6ea5c-3174-4a7a-9d43-cda407413c38",
   "metadata": {},
   "outputs": [
    {
     "data": {
      "text/plain": [
       "'PYTHON'"
      ]
     },
     "execution_count": 4,
     "metadata": {},
     "output_type": "execute_result"
    }
   ],
   "source": [
    "text= (\"PyThon\")\n",
    "str.swapcase(\"python\")"
   ]
  },
  {
   "cell_type": "code",
   "execution_count": 73,
   "id": "e5a4cdf6-6efd-433c-a3da-7095de3a7883",
   "metadata": {},
   "outputs": [
    {
     "data": {
      "text/plain": [
       "['manzana, pera, uva']"
      ]
     },
     "execution_count": 73,
     "metadata": {},
     "output_type": "execute_result"
    }
   ],
   "source": [
    "# creando la variable\n",
    "phrase = (\"manzana, pera, uva\")\n",
    "phrase.split(\"manzana,pera,uva\")"
   ]
  },
  {
   "cell_type": "code",
   "execution_count": 1,
   "id": "80524ace-bb40-4dca-8d83-51d260378bc1",
   "metadata": {},
   "outputs": [
    {
     "data": {
      "text/plain": [
       "'Hola Python'"
      ]
     },
     "execution_count": 1,
     "metadata": {},
     "output_type": "execute_result"
    }
   ],
   "source": [
    "txt= (\"Hola Mundo\")\n",
    "(txt.replace(\"Hola Mundo\" , \"Hola Python\"))"
   ]
  },
  {
   "cell_type": "code",
   "execution_count": 2,
   "id": "76894b40",
   "metadata": {},
   "outputs": [
    {
     "name": "stdout",
     "output_type": "stream",
     "text": [
      "Hola-Python-3\n"
     ]
    }
   ],
   "source": [
    "\n",
    "# h) Une la lista [\"Hola\", \"Python\", \"3\"] con guiones.\n",
    "lista = [\"Hola\", \"Python\", \"3\"]\n",
    "resultado = \"-\".join(lista)\n",
    "print(resultado)\n"
   ]
  },
  {
   "cell_type": "code",
   "execution_count": 1,
   "id": "ba73bd3a",
   "metadata": {},
   "outputs": [
    {
     "name": "stdout",
     "output_type": "stream",
     "text": [
      "5.68\n"
     ]
    }
   ],
   "source": [
    "# a) Redondea el número 5.6789 a 2 decimales.\n",
    "numero = 5.6789\n",
    "redondeado = round(numero, 2)\n",
    "print(redondeado)"
   ]
  },
  {
   "cell_type": "code",
   "execution_count": 2,
   "id": "ab277ef2",
   "metadata": {},
   "outputs": [
    {
     "name": "stdout",
     "output_type": "stream",
     "text": [
      "15.7\n"
     ]
    }
   ],
   "source": [
    "# b) Obtén el valor absoluto de -15.7.\n",
    "valor_absoluto = abs(-15.7)\n",
    "print(valor_absoluto) "
   ]
  },
  {
   "cell_type": "code",
   "execution_count": 3,
   "id": "6fc87151",
   "metadata": {},
   "outputs": [
    {
     "name": "stdout",
     "output_type": "stream",
     "text": [
      "True\n"
     ]
    }
   ],
   "source": [
    "# a) 5 > 3 y 10 < 20\n",
    "resultado_a = 5 > 3 and 10 < 20\n",
    "print(resultado_a)"
   ]
  },
  {
   "cell_type": "code",
   "execution_count": 4,
   "id": "a17fd16e",
   "metadata": {},
   "outputs": [
    {
     "name": "stdout",
     "output_type": "stream",
     "text": [
      "False\n"
     ]
    }
   ],
   "source": [
    "# b) 15 == 10 o 7 < 2\n",
    "resultado_b = 15 == 10 or 7 < 2\n",
    "print(resultado_b)"
   ]
  },
  {
   "cell_type": "code",
   "execution_count": 5,
   "id": "faa1ced8",
   "metadata": {},
   "outputs": [
    {
     "name": "stdout",
     "output_type": "stream",
     "text": [
      "False\n"
     ]
    }
   ],
   "source": [
    "resultado_c = not (4 == 4)\n",
    "print(resultado_c)"
   ]
  },
  {
   "cell_type": "code",
   "execution_count": 6,
   "id": "e5b8f4a0",
   "metadata": {},
   "outputs": [
    {
     "name": "stdout",
     "output_type": "stream",
     "text": [
      "[1, 2, 3, 4, 5, 6, 7, 8, 9, 10]\n"
     ]
    }
   ],
   "source": [
    "# a) Crea una lista con los números del 1 al 10.\n",
    "lista_numeros = list(range(1, 11))\n",
    "print(lista_numeros)"
   ]
  },
  {
   "cell_type": "code",
   "execution_count": 7,
   "id": "d4a488ce",
   "metadata": {},
   "outputs": [
    {
     "name": "stdout",
     "output_type": "stream",
     "text": [
      "[2, 4, 6, 8, 10, 12, 14, 16, 18, 20]\n"
     ]
    }
   ],
   "source": [
    "# b) Usa range() para crear una lista de números pares entre 2 y 20.\n",
    "pares = list(range(2, 21, 2))\n",
    "print(pares)"
   ]
  },
  {
   "cell_type": "code",
   "execution_count": 8,
   "id": "d3593491",
   "metadata": {},
   "outputs": [
    {
     "name": "stdout",
     "output_type": "stream",
     "text": [
      "uva\n"
     ]
    }
   ],
   "source": [
    "# c) Accede al tercer elemento de la lista [\"manzana\", \"pera\", \"uva\", \"banana\"].\n",
    "frutas = [\"manzana\", \"pera\", \"uva\", \"banana\"]\n",
    "tercera_fruta = frutas[2]\n",
    "print(tercera_fruta)"
   ]
  },
  {
   "cell_type": "code",
   "execution_count": 9,
   "id": "61a0f31d",
   "metadata": {},
   "outputs": [
    {
     "name": "stdout",
     "output_type": "stream",
     "text": [
      "['manzana', 'pera', 'uva', 'banana', 'kiwi']\n"
     ]
    }
   ],
   "source": [
    "# d) Agrega \"kiwi\" a la lista del punto anterior.\n",
    "frutas.append(\"kiwi\")\n",
    "print(frutas) "
   ]
  },
  {
   "cell_type": "code",
   "execution_count": 10,
   "id": "2b23c5b9",
   "metadata": {},
   "outputs": [
    {
     "name": "stdout",
     "output_type": "stream",
     "text": [
      "{'nombre': 'Juan', 'edad': 25, 'ciudad': 'Bogotá'}\n"
     ]
    }
   ],
   "source": [
    "# a) Crea un diccionario con llaves \"nombre\", \"edad\" y \"ciudad\".\n",
    "persona = {\"nombre\": \"Juan\", \"edad\": 25, \"ciudad\": \"Bogotá\"}\n",
    "print(persona)"
   ]
  },
  {
   "cell_type": "code",
   "execution_count": 11,
   "id": "97ed79bc",
   "metadata": {},
   "outputs": [
    {
     "name": "stdout",
     "output_type": "stream",
     "text": [
      "25\n"
     ]
    }
   ],
   "source": [
    "# b) Accede al valor de la llave \"edad\".\n",
    "edad = persona[\"edad\"]\n",
    "print(edad)"
   ]
  },
  {
   "cell_type": "markdown",
   "id": "3ce49547",
   "metadata": {},
   "source": []
  },
  {
   "cell_type": "code",
   "execution_count": 12,
   "id": "56d5096e",
   "metadata": {},
   "outputs": [
    {
     "name": "stdout",
     "output_type": "stream",
     "text": [
      "{'nombre': 'Juan', 'edad': 25, 'ciudad': 'Bogotá', 'profesión': 'Ingeniero'}\n"
     ]
    }
   ],
   "source": [
    "# c) Agrega un nuevo par llave-valor: \"profesión\".\n",
    "persona[\"profesión\"] = \"Ingeniero\"\n",
    "print(persona)"
   ]
  },
  {
   "cell_type": "code",
   "execution_count": null,
   "id": "2ac922d9",
   "metadata": {},
   "outputs": [],
   "source": [
    "# a) Bloque if-elif-else para evaluar si un número es positivo, negativo o cero.\n",
    "num = int(input(\"Ingresa un número: \"))\n",
    "if num > 0:\n",
    "    print(\"El número es positivo.\")\n",
    "elif num < 0:\n",
    "    print(\"El número es negativo.\")\n",
    "else:\n",
    "    print(\"El número es cero.\")"
   ]
  },
  {
   "cell_type": "code",
   "execution_count": 1,
   "id": "7385c3a2",
   "metadata": {},
   "outputs": [
    {
     "name": "stdout",
     "output_type": "stream",
     "text": [
      "True\n"
     ]
    }
   ],
   "source": [
    "# b) Comprobar si \"x\" es múltiplo de 6.\n",
    "x = 18\n",
    "es_multiplo = x % 6 == 0\n",
    "print(es_multiplo)"
   ]
  },
  {
   "cell_type": "code",
   "execution_count": 2,
   "id": "12639eea",
   "metadata": {},
   "outputs": [
    {
     "name": "stdout",
     "output_type": "stream",
     "text": [
      "1\n",
      "2\n",
      "3\n",
      "4\n",
      "5\n"
     ]
    }
   ],
   "source": [
    "# a) Usar un loop for para imprimir los números del 1 al 5.\n",
    "for i in range(1, 6):\n",
    "    print(i)"
   ]
  },
  {
   "cell_type": "code",
   "execution_count": 3,
   "id": "f512c1d9",
   "metadata": {},
   "outputs": [
    {
     "name": "stdout",
     "output_type": "stream",
     "text": [
      "55\n"
     ]
    }
   ],
   "source": [
    "# b) Crear un while que sume los números del 1 al 10.\n",
    "suma = 0\n",
    "i = 1\n",
    "while i <= 10:\n",
    "    suma += i\n",
    "    i += 1\n",
    "print(suma)"
   ]
  },
  {
   "cell_type": "code",
   "execution_count": 4,
   "id": "b3bf9f26",
   "metadata": {},
   "outputs": [
    {
     "name": "stdout",
     "output_type": "stream",
     "text": [
      "1\n"
     ]
    }
   ],
   "source": [
    "# a) Función que recibe dos números y retorna el módulo.\n",
    "def modulo(a, b):\n",
    "    return a % b\n",
    "\n",
    "print(modulo(10, 3))"
   ]
  },
  {
   "cell_type": "code",
   "execution_count": 5,
   "id": "efc4a6d5",
   "metadata": {},
   "outputs": [
    {
     "name": "stdout",
     "output_type": "stream",
     "text": [
      "True\n",
      "False\n"
     ]
    }
   ],
   "source": [
    "# b) Función que determina si un número es primo.\n",
    "def es_primo(n):\n",
    "    if n < 2:\n",
    "        return False\n",
    "    for i in range(2, int(n ** 0.5) + 1):\n",
    "        if n % i == 0:\n",
    "            return False\n",
    "    return True\n",
    "\n",
    "print(es_primo(7))  # True\n",
    "print(es_primo(10))"
   ]
  }
 ],
 "metadata": {
  "kernelspec": {
   "display_name": "Python 3 (ipykernel)",
   "language": "python",
   "name": "python3"
  },
  "language_info": {
   "codemirror_mode": {
    "name": "ipython",
    "version": 3
   },
   "file_extension": ".py",
   "mimetype": "text/x-python",
   "name": "python",
   "nbconvert_exporter": "python",
   "pygments_lexer": "ipython3",
   "version": "3.10.2"
  }
 },
 "nbformat": 4,
 "nbformat_minor": 5
}

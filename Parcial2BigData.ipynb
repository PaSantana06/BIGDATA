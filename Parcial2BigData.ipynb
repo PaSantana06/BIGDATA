{
 "cells": [
  {
   "cell_type": "code",
   "execution_count": 4,
   "id": "60bf82a0-c80d-4bb9-88de-7e5da1d1fa3e",
   "metadata": {},
   "outputs": [
    {
     "name": "stdout",
     "output_type": "stream",
     "text": [
      "1. Valores únicos de 'price': 442\n",
      "2. Valores únicos de 'bathrooms': 15\n",
      "5. Tercer cuartil de 'review_scores_checkin': 10.0\n",
      "6. Máximo de 'extra_people': 300\n",
      "7. Registros con aire acondicionado y check-in autónomo: 4791\n",
      "8. Registros con 1 habitación y máquina de café: 3987\n",
      "9. Promedio de 'host_response_rate' (modo imputado): 0.95\n",
      "10. Porcentaje de valores perdidos en 'gym': 0.0\n"
     ]
    }
   ],
   "source": [
    "import pandas as pd\n",
    "\n",
    "# Cargar el archivo\n",
    "df = pd.read_csv('airbnb_nyc.csv')\n",
    "\n",
    "# 1. Valores únicos para el precio\n",
    "unique_prices = df['price'].nunique()\n",
    "print(\"1. Valores únicos de 'price':\", unique_prices)\n",
    "\n",
    "# 2. Valores únicos para el número de baños\n",
    "unique_bathrooms = df['bathrooms'].nunique()\n",
    "print(\"2. Valores únicos de 'bathrooms':\", unique_bathrooms)\n",
    "\n",
    "# 5. Tercer cuartil de la calificación del check-in\n",
    "q3_checkin = df['review_scores_checkin'].quantile(0.75)\n",
    "print(\"5. Tercer cuartil de 'review_scores_checkin':\", round(q3_checkin, 2))\n",
    "\n",
    "# 6. Máximo número de personas extra\n",
    "max_extra_people = df['extra_people'].max()\n",
    "print(\"6. Máximo de 'extra_people':\", round(max_extra_people, 2))\n",
    "\n",
    "# 7. Registros con aire acondicionado y check-in autónomo\n",
    "# Asumimos que 1 = Sí, -1 = No\n",
    "air_checkin_count = df[(df['air_conditioning'] == 1) & (df['self_check_in'] == 1)].shape[0]\n",
    "print(\"7. Registros con aire acondicionado y check-in autónomo:\", air_checkin_count)\n",
    "\n",
    "# 8. Registros con 1 habitación y máquina de café\n",
    "bed_coffee_count = df[(df['bedrooms'] == 1) & (df['coffee_machine'] == 1)].shape[0]\n",
    "print(\"8. Registros con 1 habitación y máquina de café:\", bed_coffee_count)\n",
    "\n",
    "# 9. Imputar moda en 'host_response_rate' y calcular promedio\n",
    "# Primero imputamos la moda\n",
    "mode_response_rate = df['host_response_rate'].mode()[0]\n",
    "df['host_response_rate_filled'] = df['host_response_rate'].fillna(mode_response_rate)\n",
    "mean_response_rate = df['host_response_rate_filled'].mean()\n",
    "print(\"9. Promedio de 'host_response_rate' (modo imputado):\", round(mean_response_rate, 2))\n",
    "\n",
    "# 10. Porcentaje de valores perdidos en 'gym'\n",
    "missing_gym_percent = df['gym'].isna().mean() * 100\n",
    "print(\"10. Porcentaje de valores perdidos en 'gym':\", round(missing_gym_percent, 2))"
   ]
  }
 ],
 "metadata": {
  "kernelspec": {
   "display_name": "Python [conda env:base] *",
   "language": "python",
   "name": "conda-base-py"
  },
  "language_info": {
   "codemirror_mode": {
    "name": "ipython",
    "version": 3
   },
   "file_extension": ".py",
   "mimetype": "text/x-python",
   "name": "python",
   "nbconvert_exporter": "python",
   "pygments_lexer": "ipython3",
   "version": "3.12.7"
  }
 },
 "nbformat": 4,
 "nbformat_minor": 5
}

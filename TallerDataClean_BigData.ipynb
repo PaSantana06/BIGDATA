{
 "cells": [
  {
   "cell_type": "markdown",
   "id": "e14847be",
   "metadata": {},
   "source": [
    "# Taller Data Cleaning - Big Data y Análisis de Datos\n",
    "\n",
    "Este taller pretende que aplique los conceptos enseñados de Data Cleaning\n",
    "\n",
    "Puede hacerlo en grupos de máximo 3 personas, asegúrese de dejar en la entrega los nombres de todos los integrantes del grupo.\n",
    "\n",
    "## Contexto\n",
    "\n",
    "Va a trabajar con la base de datos entregada `TitanicDataset.csv`, esta contiene información sobre los pasajeros que abordaron el Titatic, tiene las siguientes variables:\n",
    " \n",
    "- `PassengerId`: ID del pasajero\n",
    "- `Survived`: Sobrevivio, 0 = No, 1 = Si\n",
    "- `Pclass`: Clase del tiquete, 1 = Primera, 2 = Segunda, 3 = Tercera\n",
    "- `Name`: Nombre\n",
    "- `Sex`: Sexo\n",
    "- `Age`: Edad en años\n",
    "- `SibSp`: Número de hermanos / esposo(a) abordo del Titanic\n",
    "- `Parch`: Número de padres / hijos abordo del Titanic\n",
    "- `Ticket`: Número del ticket\n",
    "- `Fare`: Tarifa pagada\n",
    "- `Cabin`: Número de cabina\n",
    "- `Embarked`: Puerto de embarque, C = Cherbourg, Q = Queenstown, S = Southampton"
   ]
  },
  {
   "cell_type": "markdown",
   "id": "83f5802e",
   "metadata": {},
   "source": [
    "# Paso 1: Importar las librerías y cargar los datos\n",
    "\n",
    "    Importa las siguientes librerías: pandas, numpy.\n",
    "    Carga el archivo `TitanicDataset.csv` en un DataFrame.\n",
    "\n",
    "Pregunta:\n",
    "\n",
    "    ¿Cuántas filas y columnas tiene el conjunto de datos?"
   ]
  },
  {
   "cell_type": "code",
   "execution_count": null,
   "id": "ac1932b1",
   "metadata": {},
   "outputs": [
    {
     "name": "stdout",
     "output_type": "stream",
     "text": [
      "El dataset tiene 891 filas y 12 columnas\n",
      "['PassengerId', 'Survived', 'Pclass', 'Name', 'Sex', 'Age', 'SibSp', 'Parch', 'Ticket', 'Fare', 'Cabin', 'Embarked']\n",
      "   PassengerId  Survived  Pclass  \\\n",
      "0            1         0       3   \n",
      "1            2         1       1   \n",
      "2            3         1       3   \n",
      "3            4         1       1   \n",
      "4            5         0       3   \n",
      "\n",
      "                                                Name     Sex   Age  SibSp  \\\n",
      "0                            Braund| Mr. Owen Harris    male  22.0      1   \n",
      "1  Cumings| Mrs. John Bradley (Florence Briggs Th...  female  38.0      1   \n",
      "2                             Heikkinen| Miss. Laina  female  26.0      0   \n",
      "3       Futrelle| Mrs. Jacques Heath (Lily May Peel)  female  35.0      1   \n",
      "4                           Allen| Mr. William Henry    male  35.0      0   \n",
      "\n",
      "   Parch            Ticket     Fare Cabin Embarked  \n",
      "0      0         A/5 21171     7.25   NaN        S  \n",
      "1      0          PC 17599  712.833   C85        C  \n",
      "2      0  STON/O2. 3101282    7.925   NaN        S  \n",
      "3      0            113803     53.1  C123        S  \n",
      "4      0            373450     8.05   NaN        S  \n"
     ]
    }
   ],
   "source": [
    "# INTEGRANTES: LUIS HUMBERTO CRUZ GUZMAN Y PAOLA ANDREA SANTANA MARTINEZ\n",
    "\n",
    "# Importar librerías necesarias\n",
    "import pandas as pd\n",
    "import numpy as np\n",
    "\n",
    "# Cargar el dataset con el delimitador adecuado\n",
    "df = pd.read_csv(r\"C:\\Users\\WINDOWS 10\\Desktop\\PAOLA\\FULL\\20251\\BIGDATA\\BIGDATA\\TitanicDataset.csv\", sep=';')\n",
    "\n",
    "# Verificar que se cargó correctamente\n",
    "print(f\"El dataset tiene {df.shape[0]} filas y {df.shape[1]} columnas\")\n",
    "print(df.columns.tolist())\n",
    "print(df.head())\n"
   ]
  },
  {
   "cell_type": "markdown",
   "id": "0a0558a5",
   "metadata": {},
   "source": [
    "Paso 2: Inspección inicial de los datos\n",
    "\n",
    "    Observa las primeras filas del DataFrame usando head().\n",
    "    Usa info() y describe() para obtener un resumen del conjunto de datos.\n",
    "\n",
    "Preguntas:\n",
    "\n",
    "    ¿Cuáles columnas tienen valores nulos?\n",
    "    ¿Cuáles columnas son numéricas y cuáles son categóricas?"
   ]
  },
  {
   "cell_type": "code",
   "execution_count": 33,
   "id": "98996e4b",
   "metadata": {},
   "outputs": [
    {
     "name": "stdout",
     "output_type": "stream",
     "text": [
      "Primeras filas del dataset:\n",
      "  PassengerId|Survived|Pclass|Name|Sex|Age|SibSp|Parch|Ticket|Fare|Cabin|Embarked\n",
      "0  1|0|3|\"Braund| Mr. Owen Harris\"|male|22|1|0|A/...                             \n",
      "1  2|1|1|\"Cumings| Mrs. John Bradley (Florence Br...                             \n",
      "2  3|1|3|\"Heikkinen| Miss. Laina\"|female|26|0|0|S...                             \n",
      "3  4|1|1|\"Futrelle| Mrs. Jacques Heath (Lily May ...                             \n",
      "4  5|0|3|\"Allen| Mr. William Henry\"|male|35|0|0|3...                             \n",
      "\n",
      "Información del dataset:\n",
      "<class 'pandas.core.frame.DataFrame'>\n",
      "RangeIndex: 891 entries, 0 to 890\n",
      "Data columns (total 1 columns):\n",
      " #   Column                                                                           Non-Null Count  Dtype \n",
      "---  ------                                                                           --------------  ----- \n",
      " 0   PassengerId|Survived|Pclass|Name|Sex|Age|SibSp|Parch|Ticket|Fare|Cabin|Embarked  891 non-null    object\n",
      "dtypes: object(1)\n",
      "memory usage: 7.1+ KB\n",
      "None\n",
      "\n",
      "Estadísticas descriptivas:\n",
      "       PassengerId|Survived|Pclass|Name|Sex|Age|SibSp|Parch|Ticket|Fare|Cabin|Embarked\n",
      "count                                                 891                             \n",
      "unique                                                891                             \n",
      "top     1|0|3|\"Braund| Mr. Owen Harris\"|male|22|1|0|A/...                             \n",
      "freq                                                    1                             \n",
      "\n",
      "Valores nulos por columna:\n",
      "PassengerId|Survived|Pclass|Name|Sex|Age|SibSp|Parch|Ticket|Fare|Cabin|Embarked    0\n",
      "dtype: int64\n",
      "\n",
      "Columnas numéricas: []\n",
      "Columnas categóricas: ['PassengerId|Survived|Pclass|Name|Sex|Age|SibSp|Parch|Ticket|Fare|Cabin|Embarked']\n"
     ]
    }
   ],
   "source": [
    "# Ver las primeras filas\n",
    "print(\"Primeras filas del dataset:\")\n",
    "print(df.head())\n",
    "\n",
    "# Información general del dataset\n",
    "print(\"\\nInformación del dataset:\")\n",
    "print(df.info())\n",
    "\n",
    "# Estadísticas descriptivas\n",
    "print(\"\\nEstadísticas descriptivas:\")\n",
    "print(df.describe())\n",
    "\n",
    "# Verificar valores nulos por columna\n",
    "print(\"\\nValores nulos por columna:\")\n",
    "print(df.isnull().sum())\n",
    "\n",
    "# Identificar columnas numéricas y categóricas\n",
    "numericas = df.select_dtypes(include=['int64', 'float64']).columns.tolist()\n",
    "categoricas = df.select_dtypes(include=['object']).columns.tolist()\n",
    "\n",
    "print(\"\\nColumnas numéricas:\", numericas)\n",
    "print(\"Columnas categóricas:\", categoricas)\n",
    "\n"
   ]
  },
  {
   "cell_type": "markdown",
   "id": "03bca349",
   "metadata": {},
   "source": [
    "Paso 3: Identificación y manejo de valores nulos\n",
    "\n",
    "    Observa el número de valores nulos por columna usando isnull().sum().\n",
    "    Decide cómo manejar los valores nulos en las columnas más importantes (Age, Cabin, Embarked):\n",
    "        Columna Age: Imputa la media o la mediana de la edad.\n",
    "        Columna Cabin: Decide si deseas eliminarla o mantenerla (justifica tu decisión).\n",
    "        Columna Embarked: Imputa el valor más común.\n",
    "\n",
    "Ejercicio:\n",
    "\n",
    "    Elimina cualquier fila o columna con más del 50% de valores nulos si consideras que es necesario."
   ]
  },
  {
   "cell_type": "code",
   "execution_count": null,
   "id": "840b9d02",
   "metadata": {},
   "outputs": [
    {
     "name": "stdout",
     "output_type": "stream",
     "text": [
      "Valores nulos por columna:\n",
      "PassengerId      0\n",
      "Survived         0\n",
      "Pclass           0\n",
      "Name             0\n",
      "Sex              0\n",
      "Age            177\n",
      "SibSp            0\n",
      "Parch            0\n",
      "Ticket           0\n",
      "Fare             0\n",
      "Cabin          687\n",
      "Embarked         2\n",
      "dtype: int64\n",
      "\n",
      "Porcentaje de valores nulos por columna:\n",
      "PassengerId     0.000000\n",
      "Survived        0.000000\n",
      "Pclass          0.000000\n",
      "Name            0.000000\n",
      "Sex             0.000000\n",
      "Age            19.865320\n",
      "SibSp           0.000000\n",
      "Parch           0.000000\n",
      "Ticket          0.000000\n",
      "Fare            0.000000\n",
      "Cabin          77.104377\n",
      "Embarked        0.224467\n",
      "dtype: float64\n",
      "\n",
      "Mediana de Age antes de imputación: 28.0\n",
      "\n",
      "Valor más común en Embarked: S\n",
      "\n",
      "Porcentaje de nulos en Cabin: 77.10%\n",
      "Se creó la columna HasCabin con valores binarios\n",
      "Se eliminó la columna original Cabin\n",
      "\n",
      "Valores nulos después de imputación:\n",
      "PassengerId    0\n",
      "Survived       0\n",
      "Pclass         0\n",
      "Name           0\n",
      "Sex            0\n",
      "Age            0\n",
      "SibSp          0\n",
      "Parch          0\n",
      "Ticket         0\n",
      "Fare           0\n",
      "Embarked       0\n",
      "HasCabin       0\n",
      "dtype: int64\n"
     ]
    }
   ],
   "source": [
    "# Contar valores nulos por columna\n",
    "print(\"Valores nulos por columna:\")\n",
    "print(df.isnull().sum())\n",
    "\n",
    "# Calcular porcentaje de valores nulos por columna\n",
    "print(\"\\nPorcentaje de valores nulos por columna:\")\n",
    "print(df.isnull().mean() * 100)\n",
    "\n",
    "# Para Age, imputar con la mediana\n",
    "print(f\"\\nMediana de Age antes de imputación: {df['Age'].median()}\")\n",
    "df['Age'] = df['Age'].fillna(df['Age'].median())\n",
    "\n",
    "# Para Embarked, imputar con el valor más común\n",
    "valor_comun_embarked = df['Embarked'].mode()[0]\n",
    "print(f\"\\nValor más común en Embarked: {valor_comun_embarked}\")\n",
    "df['Embarked'] = df['Embarked'].fillna(valor_comun_embarked)\n",
    "\n",
    "\n",
    "# Verificar el porcentaje de nulos en Cabin\n",
    "cabin_nulos_porcentaje = df['Cabin'].isnull().mean() * 100\n",
    "print(f\"\\nPorcentaje de nulos en Cabin: {cabin_nulos_porcentaje:.2f}%\")\n",
    "\n",
    "# Estrategia para Cabin: crear una variable binaria (1 si tiene cabina, 0 si no)\n",
    "df['HasCabin'] = df['Cabin'].notna().astype(int)\n",
    "print(\"Se creó la columna HasCabin con valores binarios\")\n",
    "\n",
    "# Si queremos eliminar la columna original Cabin:\n",
    "df = df.drop('Cabin', axis=1)\n",
    "print(\"Se eliminó la columna original Cabin\")\n",
    "\n",
    "# Verificar valores nulos restantes\n",
    "print(\"\\nValores nulos después de imputación:\")\n",
    "print(df.isnull().sum())"
   ]
  },
  {
   "cell_type": "markdown",
   "id": "ddddaa37",
   "metadata": {},
   "source": [
    "Paso 4: Detección y eliminación de duplicados\n",
    "\n",
    "    Verifica si existen filas duplicadas.\n",
    "    Si las encuentras, elimínalas usando el método adecuado de pandas.\n",
    "\n",
    "Pregunta:\n",
    "\n",
    "    ¿Cuántas filas duplicadas eliminaste, si había alguna?"
   ]
  },
  {
   "cell_type": "code",
   "execution_count": 78,
   "id": "1e396534",
   "metadata": {},
   "outputs": [
    {
     "name": "stdout",
     "output_type": "stream",
     "text": [
      "Número de filas duplicadas: 0\n",
      "No se encontraron filas duplicadas\n"
     ]
    }
   ],
   "source": [
    "# Verificar duplicados\n",
    "duplicados = df.duplicated().sum()\n",
    "print(f\"Número de filas duplicadas: {duplicados}\")\n",
    "\n",
    "# Eliminar duplicados si existen\n",
    "if duplicados > 0:\n",
    "    df = df.drop_duplicates()\n",
    "    print(f\"Se eliminaron {duplicados} filas duplicadas\")\n",
    "    print(f\"Nuevo tamaño del dataset: {df.shape[0]} filas\")\n",
    "else:\n",
    "    print(\"No se encontraron filas duplicadas\")"
   ]
  },
  {
   "cell_type": "markdown",
   "id": "670cbfc3",
   "metadata": {},
   "source": [
    "Paso 5: Transformación de tipos de datos\n",
    "\n",
    "    Convierte la columna Survived en tipo de datos categórico.\n",
    "    Para la columna Sex, convierte los valores de \"male\" a 0 y \"female\" a 1.\n",
    "    Convierte Embarked a valores numéricos, donde \"S\" sea 0, \"C\" sea 1, y \"Q\" sea 2."
   ]
  },
  {
   "cell_type": "code",
   "execution_count": 80,
   "id": "5bc92a2b",
   "metadata": {},
   "outputs": [
    {
     "name": "stdout",
     "output_type": "stream",
     "text": [
      "Columna Survived convertida a categórica\n",
      "Columna Sex convertida a numérico (0=male, 1=female)\n",
      "Columna Embarked convertida a numérico (S=0, C=1, Q=2)\n",
      "\n",
      "Primeras filas después de las transformaciones:\n",
      "   PassengerId Survived  Pclass  \\\n",
      "0            1        0       3   \n",
      "1            2        1       1   \n",
      "2            3        1       3   \n",
      "3            4        1       1   \n",
      "4            5        0       3   \n",
      "\n",
      "                                                Name  Sex   Age  SibSp  Parch  \\\n",
      "0                            Braund| Mr. Owen Harris    0  22.0      1      0   \n",
      "1  Cumings| Mrs. John Bradley (Florence Briggs Th...    1  38.0      1      0   \n",
      "2                             Heikkinen| Miss. Laina    1  26.0      0      0   \n",
      "3       Futrelle| Mrs. Jacques Heath (Lily May Peel)    1  35.0      1      0   \n",
      "4                           Allen| Mr. William Henry    0  35.0      0      0   \n",
      "\n",
      "             Ticket     Fare  Embarked  HasCabin  \n",
      "0         A/5 21171     7.25         0         0  \n",
      "1          PC 17599  712.833         1         1  \n",
      "2  STON/O2. 3101282    7.925         0         0  \n",
      "3            113803     53.1         0         1  \n",
      "4            373450     8.05         0         0  \n",
      "\n",
      "Información actualizada del dataset:\n",
      "<class 'pandas.core.frame.DataFrame'>\n",
      "RangeIndex: 891 entries, 0 to 890\n",
      "Data columns (total 12 columns):\n",
      " #   Column       Non-Null Count  Dtype   \n",
      "---  ------       --------------  -----   \n",
      " 0   PassengerId  891 non-null    int64   \n",
      " 1   Survived     891 non-null    category\n",
      " 2   Pclass       891 non-null    int64   \n",
      " 3   Name         891 non-null    object  \n",
      " 4   Sex          891 non-null    int64   \n",
      " 5   Age          891 non-null    float64 \n",
      " 6   SibSp        891 non-null    int64   \n",
      " 7   Parch        891 non-null    int64   \n",
      " 8   Ticket       891 non-null    object  \n",
      " 9   Fare         891 non-null    object  \n",
      " 10  Embarked     891 non-null    int64   \n",
      " 11  HasCabin     891 non-null    int32   \n",
      "dtypes: category(1), float64(1), int32(1), int64(6), object(3)\n",
      "memory usage: 74.2+ KB\n",
      "None\n"
     ]
    }
   ],
   "source": [
    "# Convertir Survived a categórico\n",
    "df['Survived'] = df['Survived'].astype('category')\n",
    "print(\"Columna Survived convertida a categórica\")\n",
    "\n",
    "# Convertir Sex a numérico (0=male, 1=female)\n",
    "df['Sex'] = df['Sex'].map({'male': 0, 'female': 1})\n",
    "print(\"Columna Sex convertida a numérico (0=male, 1=female)\")\n",
    "\n",
    "# Convertir Embarked a numérico (S=0, C=1, Q=2)\n",
    "df['Embarked'] = df['Embarked'].map({'S': 0, 'C': 1, 'Q': 2})\n",
    "print(\"Columna Embarked convertida a numérico (S=0, C=1, Q=2)\")\n",
    "\n",
    "# Verificar los cambios\n",
    "print(\"\\nPrimeras filas después de las transformaciones:\")\n",
    "print(df.head())\n",
    "print(\"\\nInformación actualizada del dataset:\")\n",
    "print(df.info())"
   ]
  },
  {
   "cell_type": "markdown",
   "id": "67834944",
   "metadata": {},
   "source": [
    "Paso 6: Validación de cambios y guardado del DataFrame limpio\n",
    "\n",
    "    Revisa el DataFrame final para asegurarte de que no haya valores nulos y que las transformaciones sean correctas.\n",
    "    Guarda el DataFrame limpio como un nuevo archivo CSV (titanic_cleaned.csv).\n",
    "    \n",
    "En la entrega del taller se debe adjuntar el archivo `titanic_cleaned.csv` trabajado, junto con el cuaderno con el código"
   ]
  },
  {
   "cell_type": "code",
   "execution_count": 82,
   "id": "48e6e3d6",
   "metadata": {},
   "outputs": [
    {
     "name": "stdout",
     "output_type": "stream",
     "text": [
      "Valores nulos en el dataset final: 0\n",
      "No hay valores nulos en el dataset final\n",
      "Dataset limpio guardado como 'titanic_cleaned.csv'\n"
     ]
    }
   ],
   "source": [
    "# Verificar valores nulos finales\n",
    "nulos_finales = df.isnull().sum().sum()\n",
    "print(f\"Valores nulos en el dataset final: {nulos_finales}\")\n",
    "\n",
    "if nulos_finales > 0:\n",
    "    print(\"Columnas con valores nulos:\")\n",
    "    print(df.isnull().sum()[df.isnull().sum() > 0])\n",
    "else:\n",
    "    print(\"No hay valores nulos en el dataset final\")\n",
    "\n",
    "# Guardar el DataFrame limpio\n",
    "df.to_csv('titanic_cleaned.csv', index=False)\n",
    "print(\"Dataset limpio guardado como 'titanic_cleaned.csv'\")"
   ]
  }
 ],
 "metadata": {
  "kernelspec": {
   "display_name": "Python [conda env:base] *",
   "language": "python",
   "name": "conda-base-py"
  },
  "language_info": {
   "codemirror_mode": {
    "name": "ipython",
    "version": 3
   },
   "file_extension": ".py",
   "mimetype": "text/x-python",
   "name": "python",
   "nbconvert_exporter": "python",
   "pygments_lexer": "ipython3",
   "version": "3.12.7"
  }
 },
 "nbformat": 4,
 "nbformat_minor": 5
}
